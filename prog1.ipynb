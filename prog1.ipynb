{
  "nbformat": 4,
  "nbformat_minor": 0,
  "metadata": {
    "colab": {
      "name": "prog1.ipynb",
      "provenance": [],
      "authorship_tag": "ABX9TyN2U97ephuDVPyjnmJpzzK8",
      "include_colab_link": true
    },
    "kernelspec": {
      "name": "python3",
      "display_name": "Python 3"
    }
  },
  "cells": [
    {
      "cell_type": "markdown",
      "metadata": {
        "id": "view-in-github",
        "colab_type": "text"
      },
      "source": [
        "<a href=\"https://colab.research.google.com/github/s4nderx/prog1-UFF/blob/master/prog1.ipynb\" target=\"_parent\"><img src=\"https://colab.research.google.com/assets/colab-badge.svg\" alt=\"Open In Colab\"/></a>"
      ]
    },
    {
      "cell_type": "code",
      "metadata": {
        "id": "r7m4ta2xZiaP",
        "colab_type": "code",
        "colab": {
          "base_uri": "https://localhost:8080/",
          "height": 34
        },
        "outputId": "4dc2b9da-453d-45eb-f6d0-bd291ca403f0"
      },
      "source": [
        "#URI Online Judge | 1001\n",
        "\n",
        "print(\"Hello World!\")"
      ],
      "execution_count": null,
      "outputs": [
        {
          "output_type": "stream",
          "text": [
            "Hello World!\n"
          ],
          "name": "stdout"
        }
      ]
    },
    {
      "cell_type": "code",
      "metadata": {
        "id": "m2vKHqCXZl0Y",
        "colab_type": "code",
        "colab": {
          "base_uri": "https://localhost:8080/",
          "height": 68
        },
        "outputId": "e077e38c-4209-40df-beb1-56981ffdbf43"
      },
      "source": [
        "#1003 - Soma Simples\n",
        "\n",
        "a = int(input())\n",
        "b = int(input())\n",
        "print(\"SOMA =\", a + b)"
      ],
      "execution_count": null,
      "outputs": [
        {
          "output_type": "stream",
          "text": [
            "5\n",
            "4\n",
            "X = 9\n"
          ],
          "name": "stdout"
        }
      ]
    },
    {
      "cell_type": "code",
      "metadata": {
        "id": "ZZAe7NyliPp2",
        "colab_type": "code",
        "colab": {
          "base_uri": "https://localhost:8080/",
          "height": 51
        },
        "outputId": "8d1d9af8-4a2f-42b6-8686-989b2a0fcefc"
      },
      "source": [
        "# URI Online Judge | 1002 - Área do Círculo\n",
        "\n",
        "raio = float(input())\n",
        "n = 3.14159\n",
        "area = n * (raio ** 2)\n",
        "print(\"A =\", round(area, 4))\n",
        "print(f'A = {area:.4f}')"
      ],
      "execution_count": null,
      "outputs": [
        {
          "output_type": "stream",
          "text": [
            "150.00\n",
            "A = 70685.7750\n"
          ],
          "name": "stdout"
        }
      ]
    },
    {
      "cell_type": "code",
      "metadata": {
        "id": "qBz_a3zKpYlf",
        "colab_type": "code",
        "colab": {
          "base_uri": "https://localhost:8080/",
          "height": 68
        },
        "outputId": "5ee31576-5eb4-4e6d-c85e-ad5f658de55e"
      },
      "source": [
        "# URI Online Judge | 1005 - Média 1\n",
        "\n",
        "a = float(input()) * 3.5\n",
        "b = float(input()) * 7.5\n",
        "media = (a + b)/11\n",
        "print(f'MEDIA = {media:.5f}')"
      ],
      "execution_count": null,
      "outputs": [
        {
          "output_type": "stream",
          "text": [
            "5.0\n",
            "7.1\n",
            "MEDIA = 6.43182\n"
          ],
          "name": "stdout"
        }
      ]
    },
    {
      "cell_type": "code",
      "metadata": {
        "id": "bfcVaiV_AmcQ",
        "colab_type": "code",
        "colab": {
          "base_uri": "https://localhost:8080/",
          "height": 102
        },
        "outputId": "317f0449-59d0-48a1-bcf2-ba91877ac5a0"
      },
      "source": [
        "#URI Online Judge | 1007 - Diferença\n",
        "\n",
        "a = int(input())\n",
        "b = int(input())\n",
        "c = int(input())\n",
        "d = int(input())\n",
        "\n",
        "diferenca = (a * b) - (c * d)\n",
        "print('DIFERENCA =', diferenca)"
      ],
      "execution_count": null,
      "outputs": [
        {
          "output_type": "stream",
          "text": [
            "5\n",
            "6\n",
            "7\n",
            "8\n",
            "DIFERENCA = -26\n"
          ],
          "name": "stdout"
        }
      ]
    },
    {
      "cell_type": "code",
      "metadata": {
        "id": "pXpaBMzBBYB6",
        "colab_type": "code",
        "colab": {
          "base_uri": "https://localhost:8080/",
          "height": 102
        },
        "outputId": "4cef2935-ce09-482d-d24f-e72423bb98e6"
      },
      "source": [
        "#URI Online Judge | 1008 - Salário\n",
        "\n",
        "id = int(input())  \n",
        "hours = int(input())\n",
        "valuePerHour = float(input())\n",
        "salary = hours * valuePerHour\n",
        "\n",
        "print('NUMBER =', id)\n",
        "print(f'SALARY = U$ {salary:.2f}')"
      ],
      "execution_count": null,
      "outputs": [
        {
          "output_type": "stream",
          "text": [
            "25\n",
            "100\n",
            "5.5\n",
            "NUMBER = 25\n",
            "SALARY = U$ 550.00\n"
          ],
          "name": "stdout"
        }
      ]
    },
    {
      "cell_type": "code",
      "metadata": {
        "id": "hM-WpQRJCvb_",
        "colab_type": "code",
        "colab": {
          "base_uri": "https://localhost:8080/",
          "height": 68
        },
        "outputId": "cb8337cd-2682-4040-d2e3-45cc440aba2c"
      },
      "source": [
        "#URI Online Judge | 1014 - Consumo\n",
        "\n",
        "distancia = int(input())\n",
        "consumo = float(input())\n",
        "consumoMedio = distancia/consumo\n",
        "\n",
        "print(f'{consumoMedio:.3f} km/l')"
      ],
      "execution_count": null,
      "outputs": [
        {
          "output_type": "stream",
          "text": [
            "500\n",
            "35.0\n",
            "14.286 km/l\n"
          ],
          "name": "stdout"
        }
      ]
    },
    {
      "cell_type": "code",
      "metadata": {
        "id": "RC45yrq1D-cq",
        "colab_type": "code",
        "colab": {
          "base_uri": "https://localhost:8080/",
          "height": 51
        },
        "outputId": "e9ebd8af-07bf-4a12-9a69-0a0dfeb99e2e"
      },
      "source": [
        "#URI Online Judge | 1019 - Conversão de Tempo\n",
        "\n",
        "segundosTotais = int(input())\n",
        "hora = segundosTotais // 3600 \n",
        "minutos = (segundosTotais % 3600) // 60\n",
        "segundos = segundosTotais % 60\n",
        "print(f'{hora}:{minutos}:{segundos}')\n",
        "\n"
      ],
      "execution_count": null,
      "outputs": [
        {
          "output_type": "stream",
          "text": [
            "140153\n",
            "38:55:53\n"
          ],
          "name": "stdout"
        }
      ]
    },
    {
      "cell_type": "code",
      "metadata": {
        "id": "8HYrFD4PyiOv",
        "colab_type": "code",
        "colab": {
          "base_uri": "https://localhost:8080/",
          "height": 68
        },
        "outputId": "d035a3c8-99fe-41b7-c854-d6f87a8f24d7"
      },
      "source": [
        "#URI Online Judge | 1015 - Distância Entre Dois Pontos\n",
        "\n",
        "x1, y1 = map(float, input().split())\n",
        "x2, y2 = map(float, input().split())\n",
        "distancia = (((x2 - x1)**2) + ((y2 - y1)**2)) ** (1/2)\n",
        "print(f'{distancia:.4f}')"
      ],
      "execution_count": null,
      "outputs": [
        {
          "output_type": "stream",
          "text": [
            "1.0 7.0\n",
            "5.0 9.0\n",
            "4.4721\n"
          ],
          "name": "stdout"
        }
      ]
    },
    {
      "cell_type": "code",
      "metadata": {
        "id": "zNgBKA0SyeKL",
        "colab_type": "code",
        "colab": {
          "base_uri": "https://localhost:8080/",
          "height": 51
        },
        "outputId": "eff4c08e-2d65-45e7-a5b0-c1fef42373ee"
      },
      "source": [
        "#URI Online Judge | 1016 - Distância\n",
        "distancia = int(input())\n",
        "tempoNecessario = distancia * 2\n",
        "\n",
        "print(f'{tempoNecessario} minutos')"
      ],
      "execution_count": null,
      "outputs": [
        {
          "output_type": "stream",
          "text": [
            "30\n",
            "60 minutos\n"
          ],
          "name": "stdout"
        }
      ]
    },
    {
      "cell_type": "code",
      "metadata": {
        "id": "jQoJMUBC-pMB",
        "colab_type": "code",
        "colab": {
          "base_uri": "https://localhost:8080/",
          "height": 85
        },
        "outputId": "38197916-a0af-44c9-a9f0-55eaebe13868"
      },
      "source": [
        "#URI Online Judge | 1020 - Idade em Dias\n",
        "dias = int(input())\n",
        "ano = dias//365\n",
        "mes = dias%365//30\n",
        "dias = (dias%365)%30\n",
        "\n",
        "print(f'{ano} ano(s)\\n{mes} mes(es)\\n{dias} dia(s)')"
      ],
      "execution_count": null,
      "outputs": [
        {
          "output_type": "stream",
          "text": [
            "900\n",
            "2 ano(s)\n",
            "5 mes(es)\n",
            "20 dia(s)\n"
          ],
          "name": "stdout"
        }
      ]
    },
    {
      "cell_type": "code",
      "metadata": {
        "id": "MS1Zhel6J5ri",
        "colab_type": "code",
        "colab": {
          "base_uri": "https://localhost:8080/",
          "height": 85
        },
        "outputId": "e40f1fd4-08d9-4286-c1d4-65709ff43a1c"
      },
      "source": [
        "#URI Online Judge | 1048 - Aumento de Salário\n",
        "def calcularReajuste(salario, porcentagem):\n",
        "    novoSalario = salario + (salario * (porcentagem / 100))\n",
        "    print(f'Novo salario: {(novoSalario):.2f}')\n",
        "    print(f'Reajuste ganho: {(novoSalario - salario):.2f}')\n",
        "    print(f'Em percentual: {porcentagem:.0f} %')\n",
        "\n",
        "salarioAtual = float(input())\n",
        "\n",
        "if 0 <= salarioAtual <= 400:\n",
        "  calcularReajuste(salarioAtual, 15)\n",
        "elif 400 < salarioAtual <= 800:\n",
        "  calcularReajuste(salarioAtual, 12)\n",
        "elif 800 < salarioAtual <= 1200:\n",
        "  calcularReajuste(salarioAtual, 10)\n",
        "elif 1200 < salarioAtual <= 2000:\n",
        "  calcularReajuste(salarioAtual, 7)\n",
        "else:\n",
        "  calcularReajuste(salarioAtual, 4)"
      ],
      "execution_count": null,
      "outputs": [
        {
          "output_type": "stream",
          "text": [
            "2000.00\n",
            "Novo salario: 2140.00\n",
            "Reajuste ganho: 140.00\n",
            "Em percentual: 7 %\n"
          ],
          "name": "stdout"
        }
      ]
    },
    {
      "cell_type": "code",
      "metadata": {
        "id": "hoepDF_3Yc3p",
        "colab_type": "code",
        "colab": {
          "base_uri": "https://localhost:8080/",
          "height": 51
        },
        "outputId": "1b37bc3e-259f-44fc-8813-144039dd7143"
      },
      "source": [
        "#FATORIAL\n",
        "\n",
        "num = int(input('Digite um valor inteiro positivo:'))\n",
        "# i = 1\n",
        "fat = 1\n",
        "\n",
        "# while i <= num:\n",
        "#   fat = fat * i\n",
        "#   i += 1\n",
        "\n",
        "# print('o fatorial de', num, '=', fat)\n",
        "\n",
        "for i in range(1, num+1):\n",
        "  fat = fat * i\n",
        "\n",
        "print(\"o fatorial de\", num, \"=\", fat)"
      ],
      "execution_count": null,
      "outputs": [
        {
          "output_type": "stream",
          "text": [
            "Digite um valor inteiro positivo:5\n",
            "o fatorial de 5 = 120\n"
          ],
          "name": "stdout"
        }
      ]
    },
    {
      "cell_type": "code",
      "metadata": {
        "id": "gY6X6-arzVZz",
        "colab_type": "code",
        "colab": {
          "base_uri": "https://localhost:8080/",
          "height": 51
        },
        "outputId": "bea2f638-2bcb-4215-cc7b-ec847c4c578a"
      },
      "source": [
        "#Primo Feio\n",
        "\n",
        "def isprimo():\n",
        "    numero = int(input())\n",
        "    if numero != 0 & numero != 1:\n",
        "        if numero > 3:\n",
        "            for i in range(2, numero):\n",
        "                if numero % i == 0:\n",
        "                    return False\n",
        "        return True\n",
        "    return False\n",
        "\n",
        "print(\"É primo\" if isprimo() else \"Não é primo\")"
      ],
      "execution_count": null,
      "outputs": [
        {
          "output_type": "stream",
          "text": [
            "15\n",
            "Não é primo\n"
          ],
          "name": "stdout"
        }
      ]
    },
    {
      "cell_type": "code",
      "metadata": {
        "id": "YCWRrE7f2coo",
        "colab_type": "code",
        "colab": {
          "base_uri": "https://localhost:8080/",
          "height": 146
        },
        "outputId": "fc869c43-7af8-4ad9-a37e-c9e734a9125b"
      },
      "source": [
        "#URI Online Judge | 1050 - DDD\n",
        "#Forma feia\n",
        "matriz = [[61, 71, 11, 21, 32, 19, 27, 31], ['Brasilia', 'Salvador', 'Sao Paulo', 'Rio de Janeiro', 'Juiz de Fora', 'Campinas', 'Vitoria', 'Belo Horizonte']]\n",
        "\n",
        "dddInput = int(input())\n",
        "\n",
        "for i in range(8):\n",
        "  if dddInput == matriz[0][i]:\n",
        "    print(matriz[1][i])\n",
        "    break\n",
        "  elif i == 7:\n",
        "    print('DDD nao cadastrado')"
      ],
      "execution_count": null,
      "outputs": [
        {
          "output_type": "stream",
          "text": [
            "1\n"
          ],
          "name": "stdout"
        },
        {
          "output_type": "error",
          "ename": "SyntaxError",
          "evalue": "ignored",
          "traceback": [
            "\u001b[0;36m  File \u001b[0;32m\"<ipython-input-4-a89419254d5d>\"\u001b[0;36m, line \u001b[0;32m8\u001b[0m\n\u001b[0;31m    return ''\u001b[0m\n\u001b[0m    ^\u001b[0m\n\u001b[0;31mSyntaxError\u001b[0m\u001b[0;31m:\u001b[0m 'return' outside function\n"
          ]
        }
      ]
    },
    {
      "cell_type": "code",
      "metadata": {
        "id": "5zpVulQjv_Gp",
        "colab_type": "code",
        "colab": {}
      },
      "source": [
        "#URI Online Judge | 1059 - Números Pares\n",
        "for i in range (1, 100 + 1):\n",
        "  if i%2 == 0:\n",
        "    print(i)"
      ],
      "execution_count": null,
      "outputs": []
    },
    {
      "cell_type": "code",
      "metadata": {
        "id": "3HMu49qixiUK",
        "colab_type": "code",
        "colab": {
          "base_uri": "https://localhost:8080/",
          "height": 102
        },
        "outputId": "6a3e3bfc-bde6-458b-f5a4-232318345360"
      },
      "source": [
        "#URI Online Judge | 1067 - Números Ímpares\n",
        "x = int(input()) + 1\n",
        "for i in range (1, x):\n",
        "  if not i%2 == 0:\n",
        "    print(i)"
      ],
      "execution_count": null,
      "outputs": [
        {
          "output_type": "stream",
          "text": [
            "8\n",
            "1\n",
            "3\n",
            "5\n",
            "7\n"
          ],
          "name": "stdout"
        }
      ]
    },
    {
      "cell_type": "code",
      "metadata": {
        "id": "6Lvls9lFyLp4",
        "colab_type": "code",
        "colab": {
          "base_uri": "https://localhost:8080/",
          "height": 68
        },
        "outputId": "25791085-23fa-45b3-ff05-f1d260568712"
      },
      "source": [
        "#URI Online Judge | 1071 - Soma de Impares Consecutivos I\n",
        "x = int(input())\n",
        "y = int(input())\n",
        "soma = 0\n",
        "if x > y:\n",
        "  for i in range (x -1, y, -1):\n",
        "    if i%2 != 0:\n",
        "      soma += i\n",
        "  print(soma)\n",
        "else:\n",
        "  for i in range (x + 1, y + 1):\n",
        "    if i%2 != 0:\n",
        "      soma += i\n",
        "  print(soma)"
      ],
      "execution_count": null,
      "outputs": [
        {
          "output_type": "stream",
          "text": [
            "-5\n",
            "6\n",
            "5\n"
          ],
          "name": "stdout"
        }
      ]
    },
    {
      "cell_type": "code",
      "metadata": {
        "id": "X48iHtYQynYl",
        "colab_type": "code",
        "colab": {
          "base_uri": "https://localhost:8080/",
          "height": 136
        },
        "outputId": "20ef7271-4edd-462a-8a5a-62a90a01dcfe"
      },
      "source": [
        "#URI Online Judge | 1329 - Cara ou Coroa\n",
        "n = int(input())\n",
        "while n > 0:\n",
        "  x = 0\n",
        "  y = 0\n",
        "  rs = str(input()).split()\n",
        "  for r in rs:\n",
        "    if int(r) == 0:\n",
        "      x += 1\n",
        "    elif int(r) == 1:\n",
        "      y += 1\n",
        "  print(f'Mary won {x} times and John won {y} times')\n",
        "  n = int(input())"
      ],
      "execution_count": null,
      "outputs": [
        {
          "output_type": "stream",
          "text": [
            "5\n",
            "0 0 1 0 1\n",
            "Mary won 3 times and John won 2 times\n",
            "6\n",
            "0 0 0 0 0 1\n",
            "Mary won 5 times and John won 1 times\n",
            "0\n"
          ],
          "name": "stdout"
        }
      ]
    },
    {
      "cell_type": "code",
      "metadata": {
        "id": "2o5g2W7WR57M",
        "colab_type": "code",
        "colab": {
          "base_uri": "https://localhost:8080/",
          "height": 51
        },
        "outputId": "3a598b7c-9e73-49a3-f62e-a4621a6fef31"
      },
      "source": [
        "#URI Online Judge | 1930 - Tomadas\n",
        "tomadasList = list(map(int, input().split())) \n",
        "numMax = 0\n",
        "tam = 0\n",
        "for tm in tomadasList:\n",
        "  tam += 1\n",
        "  numMax += int(tm)\n",
        "numMax = numMax - (tam - 1)\n",
        "print(numMax)"
      ],
      "execution_count": null,
      "outputs": [
        {
          "output_type": "stream",
          "text": [
            "2 2 2 2\n",
            "5\n"
          ],
          "name": "stdout"
        }
      ]
    },
    {
      "cell_type": "code",
      "metadata": {
        "id": "lal_WDVfU4vI",
        "colab_type": "code",
        "colab": {
          "base_uri": "https://localhost:8080/",
          "height": 85
        },
        "outputId": "ecd7d219-5519-410d-ece6-0f49429acc87"
      },
      "source": [
        "#URI Online Judge | 1038 - Lanche\n",
        "\n",
        "lanches = {\n",
        "   1: 4.0,\n",
        "   2: 4.5,\n",
        "   3: 5.0,\n",
        "   4: 2.0,\n",
        "   5: 1.5\n",
        "}\n",
        "\n",
        "x1, x2 = map(float, input().split())\n",
        "\n",
        "print(x1)\n",
        "print(x2)\n",
        "\n",
        "total = lanches[x1] * x2\n",
        "\n",
        "print(f'Total: R$ {total:.2f}')\n",
        "\n"
      ],
      "execution_count": 19,
      "outputs": [
        {
          "output_type": "stream",
          "text": [
            "2.0 0.0\n",
            "2.0\n",
            "0.0\n",
            "Total: R$ 0.00\n"
          ],
          "name": "stdout"
        }
      ]
    },
    {
      "cell_type": "code",
      "metadata": {
        "id": "LjmTN4qtX24R",
        "colab_type": "code",
        "colab": {
          "base_uri": "https://localhost:8080/",
          "height": 68
        },
        "outputId": "e0ab32ff-28e9-4514-9f77-871e3cc47486"
      },
      "source": [
        "#URI Online Judge | 1040 - Média 3\n",
        "\n",
        "notas = list(map(float, input().split()))\n",
        "m = ((notas[0] * 2) + (notas[1] * 3) + (notas[2] * 4) + notas[3]) / 10\n",
        "print(f'Media: {m:.1f}')\n",
        "if m >= 7:\n",
        "  print('Aluno aprovado.')\n",
        "elif m < 5:\n",
        "  print('Aluno reprovado.')\n",
        "elif 5 <= m <= 6.9:\n",
        "  print('Aluno em exame.')\n",
        "  ne = float(input())\n",
        "  print(f'Nota do exame: {ne:.1f}')\n",
        "  mf = (m + ne) / 2\n",
        "  if mf >= 5:\n",
        "    print('Aluno aprovado.')\n",
        "  else:\n",
        "    print('Aluno reprovado.')\n",
        "  print(f'Media final: {mf:.1f}')\n"
      ],
      "execution_count": null,
      "outputs": [
        {
          "output_type": "stream",
          "text": [
            "9.0 4.0 8.5 9.0\n",
            "Media: 7.3\n",
            "Aluno aprovado.\n"
          ],
          "name": "stdout"
        }
      ]
    },
    {
      "cell_type": "code",
      "metadata": {
        "id": "xCi7uUHSYNk6",
        "colab_type": "code",
        "colab": {
          "base_uri": "https://localhost:8080/",
          "height": 170
        },
        "outputId": "1ecb6d17-62f8-4034-ba49-0e38f3f3d834"
      },
      "source": [
        "#Numeros primos ou perfeitos valores\n",
        "#Subprogramas\n",
        "def primo(numero):\n",
        "  for divisor in range(2, 1+int(numero**0.5)):\n",
        "    if numero % divisor == 0:\n",
        "      return False\n",
        "  return numero > 1\n",
        "\n",
        "def perfeito(numero):\n",
        "  somaDosDivisores = 1\n",
        "  for divisor in range(2, numero//2 + 1):\n",
        "    if numero % divisor == 0:\n",
        "      somaDosDivisores += divisor\n",
        "  return numero == somaDosDivisores\n",
        "\n",
        "# Programa Principal\n",
        "inicio, fim = input().split()\n",
        "inicio, fim = int(inicio), int(fim)\n",
        "\n",
        "for x in range(inicio, fim+1):\n",
        "  if primo(x) or perfeito(x):\n",
        "    print(x)"
      ],
      "execution_count": 33,
      "outputs": [
        {
          "output_type": "stream",
          "text": [
            "0 20\n",
            "2\n",
            "3\n",
            "5\n",
            "7\n",
            "11\n",
            "13\n",
            "17\n",
            "19\n"
          ],
          "name": "stdout"
        }
      ]
    },
    {
      "cell_type": "code",
      "metadata": {
        "id": "wNJvvtrg0Zda",
        "colab_type": "code",
        "colab": {
          "base_uri": "https://localhost:8080/",
          "height": 51
        },
        "outputId": "9d13f6db-f572-4ab3-c0da-f313caccb129"
      },
      "source": [
        "#TESTE\n",
        "# a, b, c = map(float, input().split())\n",
        "notas = list(map(float, input().split()))\n",
        "print(notas)"
      ],
      "execution_count": null,
      "outputs": [
        {
          "output_type": "stream",
          "text": [
            "1.0 2.0 3.0\n",
            "[1.0, 2.0, 3.0]\n"
          ],
          "name": "stdout"
        }
      ]
    },
    {
      "cell_type": "code",
      "metadata": {
        "id": "eTYFs-v0OtiQ",
        "colab_type": "code",
        "colab": {
          "base_uri": "https://localhost:8080/",
          "height": 102
        },
        "outputId": "18aafba2-bcde-4e73-c515-9050f027a7ed"
      },
      "source": [
        "# Faça um programa em Python que leia números inteiros do teclado até que um número zero seja digitado. \n",
        "# Diga quantos números foram lidos e quantos números primos foram lidos. \n",
        "# Definição: Um número é primo se e somente se ele é maior que um e é apenas divisível por ele e por um. \n",
        "# Sugestão: utilize a operação que retorna o resto da divisão inteira: \n",
        "# valor % divisor. Exemplo: 13%5 = 3.\n",
        "\n",
        "#Sub\n",
        "def lerPontos():\n",
        "  pts = []\n",
        "  x,y = map(float,input().split())\n",
        "  while (x,y)!= (0,0):  #x!=0 or y!=0\n",
        "      pts.append((x,y))\n",
        "      x,y = map(float,input().split()) #pega o proximo\n",
        "  return pts\n",
        "\n",
        "def calculaCentroide(pts):\n",
        "  qtdPontos = len(pts)\n",
        "  somaXs = somaYs = 0\n",
        "  for (x,y) in pts:\n",
        "    somaXs += x\n",
        "    somaYs += y\n",
        "  return somaXs/qtdPontos, somaYs/qtdPontos\n",
        "\n",
        "def encontraMaisProximo(ptCentroide, pts):\n",
        "\n",
        "  #funcao local#########################################\n",
        "  \n",
        "  def distancia(pA,pB):\n",
        "    return ((pA[0] - pB[0])**2+(pA[1] - pB[1])**2)**0.5\n",
        "\n",
        "  ######################################################\n",
        "\n",
        "  ptMaisProximo = pts[0]\n",
        "  distMaisProximo = distancia(pts[0], ptCentroide) #pode ser ptMaisProximo\n",
        "  for pt in pts:\n",
        "    distAtual = distancia(pt, ptCentroide)\n",
        "    if distAtual < distMaisProximo:\n",
        "      distMaisProximo = distAtual\n",
        "      ptMaisProximo = pt\n",
        "  return ptMaisProximo\n",
        "\n",
        "#Programa Principal\n",
        "pontos = lerPontos()\n",
        "pontoCentroide = calculaCentroide(pontos)\n",
        "print(\"Centroide =\" , pontoCentroide)\n",
        "pontoMaisProximo = encontraMaisProximo(pontoCentroide, pontos)\n",
        "print(\"Ponto mais próximo do Centróide: \", pontoMaisProximo)"
      ],
      "execution_count": 20,
      "outputs": [
        {
          "output_type": "stream",
          "text": [
            "21 03\n",
            "21 32\n",
            "0 0\n",
            "Centroide = (21.0, 17.5)\n",
            "Ponto mais próximo do Centróide:  (21.0, 3.0)\n"
          ],
          "name": "stdout"
        }
      ]
    },
    {
      "cell_type": "code",
      "metadata": {
        "id": "eRn5O6exWuzW",
        "colab_type": "code",
        "colab": {
          "base_uri": "https://localhost:8080/",
          "height": 102
        },
        "outputId": "39d8ed77-e592-4e82-de5e-a68d7c993923"
      },
      "source": [
        "# Faça um programa, contendo subprogramas, que leia linhas da entrada padrão, até que uma linha vazia seja digitada. \n",
        "# Suponha que cada linha não vazia contenha um ou mais números inteiros, separados por espaço em branco. \n",
        "# Para cada linha lida escreva o maior valor inteiro. Ao final, escreva a média de todos os maiores valores lidos em cada linha. \n",
        "# Caso inicialmente uma linha vazia seja lida, escreva na saída padrão a mensagem “Nenhum número foi lido!!!”. \n",
        "# (Está proibido o uso de max, sort, sorted, etc. Faça suas operações.)\n",
        "\n",
        "#SubPrograma\n",
        "def qualMaior(vals):\n",
        "  oMaior = vals[0]\n",
        "  for val in vals:\n",
        "    if val > oMaior:\n",
        "      oMaior = val\n",
        "  return oMaior\n",
        "\n",
        "#Programa Principal\n",
        "linhaLida = input()\n",
        "\n",
        "if linhaLida == \"\":\n",
        "  print(\"Nenhum número foi lido:\")\n",
        "\n",
        "else:\n",
        "  somaDosMaiores = qtdeLinhas = 0\n",
        "  while linhaLida != \"\":\n",
        "    qtdeLinhas+=1\n",
        "    numeros = list(map(int, linhaLida.split()))\n",
        "    maior = qualMaior(numeros)\n",
        "    somaDosMaiores += maior\n",
        "    linhaLida =input()\n",
        "  print(\"Média dos Maiores: %.1f\"%(somaDosMaiores/qtdeLinhas))"
      ],
      "execution_count": 24,
      "outputs": [
        {
          "output_type": "stream",
          "text": [
            "10 25 10 50\n",
            "50 29 34 23\n",
            "32 43 12 43 50\n",
            "\n",
            "Média dos Maiores: 50.0\n"
          ],
          "name": "stdout"
        }
      ]
    },
    {
      "cell_type": "code",
      "metadata": {
        "id": "u5TFgBcuYgjL",
        "colab_type": "code",
        "colab": {
          "base_uri": "https://localhost:8080/",
          "height": 153
        },
        "outputId": "dff1ffaa-6af2-43b6-8fe8-8eac3c1082a0"
      },
      "source": [
        "# Está proibido o uso de break. Caso utilize sua questão valerá a metade dos pontos.\n",
        "#     Faça um programa em Python que leia números inteiros do teclado até que um número zero seja digitado. Diga quantos números foram lidos e quantos números primos foram lidos. \n",
        "# Definição: Um número é primo se e somente se ele é maior que um e é apenas divisível por ele e por um. \n",
        "# Sugestão: utilize a operação que retorna o resto da divisão inteira: \n",
        "# valor % divisor. Exemplo: 13%5 = 3.\n",
        "\n",
        "\n",
        "#Subprogramas\n",
        "def ehPrimo(num):\n",
        "  for divisor in range(2,int(1+(num**0.5))):\n",
        "    if num % divisor == 0:\n",
        "      return False\n",
        "  return num > 1\n",
        "\n",
        "#Programa principal\n",
        "totalNumeros = totalNumerosPrimos =  0\n",
        "numero = int(input())\n",
        "while numero != 0:\n",
        "  totalNumeros += 1\n",
        "  if ehPrimo(numero):\n",
        "      totalNumerosPrimos +=1\n",
        "  numero = int(input())\n",
        "\n",
        "print(\"Foram digitados: {} números\".format(totalNumeros))\n",
        "print(\"Destes, um total de {} número(s) era(m) primo(s)\".format(totalNumerosPrimos))"
      ],
      "execution_count": 31,
      "outputs": [
        {
          "output_type": "stream",
          "text": [
            "2\n",
            "3\n",
            "5\n",
            "89\n",
            "97\n",
            "0\n",
            "Foram digitados: 5 números\n",
            "Destes, um total de 5 número(s) era(m) primo(s)\n"
          ],
          "name": "stdout"
        }
      ]
    }
  ]
}